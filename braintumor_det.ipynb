{
  "nbformat": 4,
  "nbformat_minor": 0,
  "metadata": {
    "colab": {
      "name": "braintumor_det.ipynb",
      "provenance": [],
      "collapsed_sections": []
    },
    "kernelspec": {
      "name": "python3",
      "display_name": "Python 3"
    },
    "language_info": {
      "name": "python"
    }
  },
  "cells": [
    {
      "cell_type": "code",
      "metadata": {
        "id": "6xwPPHQYfqO6"
      },
      "source": [
        "import matplotlib.pyplot as plt\n",
        "import cv2\n",
        "import numpy as np\n",
        "from google.colab.patches import cv2_imshow\n",
        "import seaborn as sns\n",
        "import tensorflow as tf\n",
        "from tensorflow.keras.models import Sequential\n",
        "from tensorflow.keras.layers import  Conv2D ,MaxPool2D,Flatten,Dense\n",
        "from tensorflow.keras.preprocessing.image import ImageDataGenerator\n"
      ],
      "execution_count": 4,
      "outputs": []
    },
    {
      "cell_type": "code",
      "metadata": {
        "id": "vL9yoxYWfqAT",
        "colab": {
          "base_uri": "https://localhost:8080/"
        },
        "outputId": "bd7eb065-2ecb-4780-e67c-a523f14c320c"
      },
      "source": [
        "from google.colab import drive \n",
        "drive.mount('/content/drive')"
      ],
      "execution_count": 5,
      "outputs": [
        {
          "output_type": "stream",
          "text": [
            "Mounted at /content/drive\n"
          ],
          "name": "stdout"
        }
      ]
    },
    {
      "cell_type": "code",
      "metadata": {
        "id": "3GlvsuhDfpj7"
      },
      "source": [
        "train_gen=ImageDataGenerator(rescale=1/.255,\n",
        "                             rotation_range=7,\n",
        "                             zoom_range=0.2,\n",
        "                             horizontal_flip=True)"
      ],
      "execution_count": 9,
      "outputs": []
    },
    {
      "cell_type": "code",
      "metadata": {
        "id": "zJMfew_3fpaB",
        "colab": {
          "base_uri": "https://localhost:8080/"
        },
        "outputId": "38f4496b-3616-47ae-b88b-72a6975ca3d4"
      },
      "source": [
        "train_dataset=train_gen.flow_from_directory('/content/drive/MyDrive/computer vision/archive (4)/training',\n",
        "                                                     target_size=(64,64),batch_size=8,\n",
        "                                                     class_mode='categorical',\n",
        "                                                     shuffle=True)"
      ],
      "execution_count": 10,
      "outputs": [
        {
          "output_type": "stream",
          "text": [
            "Found 253 images belonging to 2 classes.\n"
          ],
          "name": "stdout"
        }
      ]
    },
    {
      "cell_type": "code",
      "metadata": {
        "id": "nY1m7i9XfpQg",
        "colab": {
          "base_uri": "https://localhost:8080/"
        },
        "outputId": "c2c1db0b-c276-4cf3-bc20-f9114806e03e"
      },
      "source": [
        "train_dataset.class_indices"
      ],
      "execution_count": 12,
      "outputs": [
        {
          "output_type": "execute_result",
          "data": {
            "text/plain": [
              "{'no': 0, 'yes': 1}"
            ]
          },
          "metadata": {
            "tags": []
          },
          "execution_count": 12
        }
      ]
    },
    {
      "cell_type": "code",
      "metadata": {
        "colab": {
          "base_uri": "https://localhost:8080/"
        },
        "id": "xVN485tawoPQ",
        "outputId": "5b698116-44b5-46d1-e3fb-2bba9b7c4a57"
      },
      "source": [
        "(1152+2)/2 # choosing the number of neurons in the hidden layer w.r.t the vector size"
      ],
      "execution_count": 18,
      "outputs": [
        {
          "output_type": "execute_result",
          "data": {
            "text/plain": [
              "577.0"
            ]
          },
          "metadata": {
            "tags": []
          },
          "execution_count": 18
        }
      ]
    },
    {
      "cell_type": "code",
      "metadata": {
        "id": "b0IlvSykfox1",
        "colab": {
          "base_uri": "https://localhost:8080/"
        },
        "outputId": "3f6c250c-04a1-4935-d294-5f33e8329d49"
      },
      "source": [
        "network=Sequential()\n",
        "network.add(Conv2D(filters=32,kernel_size=(3,3),activation='relu',input_shape=(64,64,3)))\n",
        "network.add(MaxPool2D(pool_size=(2,2)))\n",
        "\n",
        "network.add(Conv2D(filters=32,kernel_size=(3,3),activation='relu'))\n",
        "network.add(MaxPool2D(pool_size=(2,2)))\n",
        "\n",
        "network.add(Conv2D(filters=32,kernel_size=(3,3),activation='relu'))\n",
        "network.add(MaxPool2D(pool_size=(2,2)))\n",
        "\n",
        "network.add(Flatten())\n",
        "\n",
        "network.add(Dense(units=577, activation='relu'))\n",
        "network.add(Dense(units=577,activation='relu'))\n",
        "network.add(Dense(units=2,activation='softmax'))\n",
        "\n",
        "network.summary()"
      ],
      "execution_count": 19,
      "outputs": [
        {
          "output_type": "stream",
          "text": [
            "Model: \"sequential_2\"\n",
            "_________________________________________________________________\n",
            "Layer (type)                 Output Shape              Param #   \n",
            "=================================================================\n",
            "conv2d_3 (Conv2D)            (None, 62, 62, 32)        896       \n",
            "_________________________________________________________________\n",
            "max_pooling2d_3 (MaxPooling2 (None, 31, 31, 32)        0         \n",
            "_________________________________________________________________\n",
            "conv2d_4 (Conv2D)            (None, 29, 29, 32)        9248      \n",
            "_________________________________________________________________\n",
            "max_pooling2d_4 (MaxPooling2 (None, 14, 14, 32)        0         \n",
            "_________________________________________________________________\n",
            "conv2d_5 (Conv2D)            (None, 12, 12, 32)        9248      \n",
            "_________________________________________________________________\n",
            "max_pooling2d_5 (MaxPooling2 (None, 6, 6, 32)          0         \n",
            "_________________________________________________________________\n",
            "flatten_1 (Flatten)          (None, 1152)              0         \n",
            "_________________________________________________________________\n",
            "dense_3 (Dense)              (None, 577)               665281    \n",
            "_________________________________________________________________\n",
            "dense_4 (Dense)              (None, 577)               333506    \n",
            "_________________________________________________________________\n",
            "dense_5 (Dense)              (None, 2)                 1156      \n",
            "=================================================================\n",
            "Total params: 1,019,335\n",
            "Trainable params: 1,019,335\n",
            "Non-trainable params: 0\n",
            "_________________________________________________________________\n"
          ],
          "name": "stdout"
        }
      ]
    },
    {
      "cell_type": "code",
      "metadata": {
        "id": "WBvlAQfvsqfY"
      },
      "source": [
        "network.compile(optimizer='Adam',loss='categorical_crossentropy',metrics=['accuracy'])\n"
      ],
      "execution_count": 20,
      "outputs": []
    },
    {
      "cell_type": "code",
      "metadata": {
        "colab": {
          "base_uri": "https://localhost:8080/"
        },
        "id": "6VaR4fyNsqco",
        "outputId": "520eba1c-1126-49cc-9041-8b10175b4ce7"
      },
      "source": [
        "history=network.fit_generator(train_dataset,epochs=50)"
      ],
      "execution_count": 39,
      "outputs": [
        {
          "output_type": "stream",
          "text": [
            "/usr/local/lib/python3.7/dist-packages/tensorflow/python/keras/engine/training.py:1844: UserWarning: `Model.fit_generator` is deprecated and will be removed in a future version. Please use `Model.fit`, which supports generators.\n",
            "  warnings.warn('`Model.fit_generator` is deprecated and '\n"
          ],
          "name": "stderr"
        },
        {
          "output_type": "stream",
          "text": [
            "Epoch 1/50\n",
            "32/32 [==============================] - 3s 86ms/step - loss: 0.1456 - accuracy: 0.9526\n",
            "Epoch 2/50\n",
            "32/32 [==============================] - 3s 85ms/step - loss: 0.1061 - accuracy: 0.9684\n",
            "Epoch 3/50\n",
            "32/32 [==============================] - 3s 84ms/step - loss: 0.1168 - accuracy: 0.9447\n",
            "Epoch 4/50\n",
            "32/32 [==============================] - 3s 85ms/step - loss: 0.1816 - accuracy: 0.9447\n",
            "Epoch 5/50\n",
            "32/32 [==============================] - 3s 85ms/step - loss: 0.1449 - accuracy: 0.9644\n",
            "Epoch 6/50\n",
            "32/32 [==============================] - 3s 86ms/step - loss: 0.1206 - accuracy: 0.9565\n",
            "Epoch 7/50\n",
            "32/32 [==============================] - 3s 87ms/step - loss: 0.1721 - accuracy: 0.9447\n",
            "Epoch 8/50\n",
            "32/32 [==============================] - 3s 86ms/step - loss: 0.2670 - accuracy: 0.9368\n",
            "Epoch 9/50\n",
            "32/32 [==============================] - 3s 86ms/step - loss: 0.0554 - accuracy: 0.9842\n",
            "Epoch 10/50\n",
            "32/32 [==============================] - 3s 86ms/step - loss: 0.1070 - accuracy: 0.9605\n",
            "Epoch 11/50\n",
            "32/32 [==============================] - 3s 87ms/step - loss: 0.0740 - accuracy: 0.9763\n",
            "Epoch 12/50\n",
            "32/32 [==============================] - 3s 84ms/step - loss: 0.0700 - accuracy: 0.9723\n",
            "Epoch 13/50\n",
            "32/32 [==============================] - 3s 84ms/step - loss: 0.0322 - accuracy: 0.9881\n",
            "Epoch 14/50\n",
            "32/32 [==============================] - 3s 87ms/step - loss: 0.1998 - accuracy: 0.9526\n",
            "Epoch 15/50\n",
            "32/32 [==============================] - 3s 86ms/step - loss: 0.1716 - accuracy: 0.9407\n",
            "Epoch 16/50\n",
            "32/32 [==============================] - 3s 85ms/step - loss: 0.1152 - accuracy: 0.9486\n",
            "Epoch 17/50\n",
            "32/32 [==============================] - 3s 86ms/step - loss: 0.1284 - accuracy: 0.9526\n",
            "Epoch 18/50\n",
            "32/32 [==============================] - 3s 87ms/step - loss: 0.0548 - accuracy: 0.9842\n",
            "Epoch 19/50\n",
            "32/32 [==============================] - 3s 86ms/step - loss: 0.0756 - accuracy: 0.9605\n",
            "Epoch 20/50\n",
            "32/32 [==============================] - 3s 87ms/step - loss: 0.1308 - accuracy: 0.9526\n",
            "Epoch 21/50\n",
            "32/32 [==============================] - 3s 84ms/step - loss: 0.1006 - accuracy: 0.9605\n",
            "Epoch 22/50\n",
            "32/32 [==============================] - 3s 85ms/step - loss: 0.0782 - accuracy: 0.9723\n",
            "Epoch 23/50\n",
            "32/32 [==============================] - 3s 85ms/step - loss: 0.0763 - accuracy: 0.9802\n",
            "Epoch 24/50\n",
            "32/32 [==============================] - 3s 86ms/step - loss: 0.1585 - accuracy: 0.9605\n",
            "Epoch 25/50\n",
            "32/32 [==============================] - 3s 83ms/step - loss: 0.0905 - accuracy: 0.9644\n",
            "Epoch 26/50\n",
            "32/32 [==============================] - 3s 86ms/step - loss: 0.1864 - accuracy: 0.9289\n",
            "Epoch 27/50\n",
            "32/32 [==============================] - 3s 85ms/step - loss: 0.1584 - accuracy: 0.9486\n",
            "Epoch 28/50\n",
            "32/32 [==============================] - 3s 86ms/step - loss: 0.1215 - accuracy: 0.9605\n",
            "Epoch 29/50\n",
            "32/32 [==============================] - 3s 86ms/step - loss: 0.0499 - accuracy: 0.9842\n",
            "Epoch 30/50\n",
            "32/32 [==============================] - 3s 84ms/step - loss: 0.0944 - accuracy: 0.9684\n",
            "Epoch 31/50\n",
            "32/32 [==============================] - 3s 86ms/step - loss: 0.0578 - accuracy: 0.9684\n",
            "Epoch 32/50\n",
            "32/32 [==============================] - 3s 84ms/step - loss: 0.1064 - accuracy: 0.9644\n",
            "Epoch 33/50\n",
            "32/32 [==============================] - 3s 84ms/step - loss: 0.0604 - accuracy: 0.9802\n",
            "Epoch 34/50\n",
            "32/32 [==============================] - 3s 87ms/step - loss: 0.1950 - accuracy: 0.9289\n",
            "Epoch 35/50\n",
            "32/32 [==============================] - 3s 82ms/step - loss: 0.0795 - accuracy: 0.9684\n",
            "Epoch 36/50\n",
            "32/32 [==============================] - 3s 84ms/step - loss: 0.0570 - accuracy: 0.9763\n",
            "Epoch 37/50\n",
            "32/32 [==============================] - 3s 83ms/step - loss: 0.1533 - accuracy: 0.9684\n",
            "Epoch 38/50\n",
            "32/32 [==============================] - 3s 86ms/step - loss: 0.1662 - accuracy: 0.9486\n",
            "Epoch 39/50\n",
            "32/32 [==============================] - 3s 84ms/step - loss: 0.0856 - accuracy: 0.9684\n",
            "Epoch 40/50\n",
            "32/32 [==============================] - 3s 84ms/step - loss: 0.0584 - accuracy: 0.9723\n",
            "Epoch 41/50\n",
            "32/32 [==============================] - 3s 86ms/step - loss: 0.0583 - accuracy: 0.9881\n",
            "Epoch 42/50\n",
            "32/32 [==============================] - 3s 87ms/step - loss: 0.0180 - accuracy: 0.9960\n",
            "Epoch 43/50\n",
            "32/32 [==============================] - 3s 86ms/step - loss: 0.0625 - accuracy: 0.9802\n",
            "Epoch 44/50\n",
            "32/32 [==============================] - 3s 87ms/step - loss: 0.0432 - accuracy: 0.9842\n",
            "Epoch 45/50\n",
            "32/32 [==============================] - 3s 84ms/step - loss: 0.1319 - accuracy: 0.9763\n",
            "Epoch 46/50\n",
            "32/32 [==============================] - 3s 85ms/step - loss: 0.1311 - accuracy: 0.9644\n",
            "Epoch 47/50\n",
            "32/32 [==============================] - 3s 85ms/step - loss: 0.0585 - accuracy: 0.9802\n",
            "Epoch 48/50\n",
            "32/32 [==============================] - 3s 86ms/step - loss: 0.1143 - accuracy: 0.9526\n",
            "Epoch 49/50\n",
            "32/32 [==============================] - 3s 85ms/step - loss: 0.1328 - accuracy: 0.9763\n",
            "Epoch 50/50\n",
            "32/32 [==============================] - 3s 85ms/step - loss: 0.1194 - accuracy: 0.9684\n"
          ],
          "name": "stdout"
        }
      ]
    },
    {
      "cell_type": "code",
      "metadata": {
        "id": "A-6tEzYEsqaQ"
      },
      "source": [
        ""
      ],
      "execution_count": null,
      "outputs": []
    },
    {
      "cell_type": "code",
      "metadata": {
        "id": "EtM33eu789Z-"
      },
      "source": [
        "def tumor(number):\n",
        "    \n",
        "    if number == 0:\n",
        "        \n",
        "        return \"Not a tumor\"\n",
        "    \n",
        "    else:\n",
        "        \n",
        "        return \"a tumor\""
      ],
      "execution_count": 52,
      "outputs": []
    },
    {
      "cell_type": "code",
      "metadata": {
        "colab": {
          "base_uri": "https://localhost:8080/",
          "height": 303
        },
        "id": "t9VS3pOo7lMw",
        "outputId": "f3247901-1790-4cb2-b594-aad175ab61ac"
      },
      "source": [
        "from PIL import Image\n",
        "img = Image.open('/content/drive/MyDrive/computer vision/archive (4)/testing/brain_tumor_dataset/yes/Y100.JPG')\n",
        "\n",
        "x = np.array(img.resize((64,64)))\n",
        "\n",
        "x = x.reshape(1, 64, 64, 3)\n",
        "\n",
        "result = network.predict([x])\n",
        "\n",
        "classification = np.where(result == np.amax(result))[1][0]\n",
        "\n",
        "#\n",
        "print(str(result[0][classification]*100) + '% Confidence This Is ' + tumor(classification))\n",
        "\n",
        "plt.imshow(img)"
      ],
      "execution_count": 54,
      "outputs": [
        {
          "output_type": "stream",
          "text": [
            "57.464033365249634% Confidence This Is a tumor\n"
          ],
          "name": "stdout"
        },
        {
          "output_type": "execute_result",
          "data": {
            "text/plain": [
              "<matplotlib.image.AxesImage at 0x7f62e845b3d0>"
            ]
          },
          "metadata": {
            "tags": []
          },
          "execution_count": 54
        },
        {
          "output_type": "display_data",
          "data": {
            "image/png": "[encoded data removed]",
            "text/plain": [
              "<Figure size 432x288 with 1 Axes>"
            ]
          },
          "metadata": {
            "tags": [],
            "needs_background": "light"
          }
        }
      ]
    },
    {
      "cell_type": "code",
      "metadata": {
        "id": "nQpGyKYjsqQE"
      },
      "source": [
        ""
      ],
      "execution_count": null,
      "outputs": []
    },
    {
      "cell_type": "code",
      "metadata": {
        "id": "oIXSg-vwsqNk"
      },
      "source": [
        ""
      ],
      "execution_count": null,
      "outputs": []
    },
    {
      "cell_type": "code",
      "metadata": {
        "id": "uWkFcQPAsqLG"
      },
      "source": [
        ""
      ],
      "execution_count": null,
      "outputs": []
    },
    {
      "cell_type": "code",
      "metadata": {
        "id": "rNp2R1i7sqHk"
      },
      "source": [
        ""
      ],
      "execution_count": null,
      "outputs": []
    },
    {
      "cell_type": "code",
      "metadata": {
        "id": "E4EK074GsqFo"
      },
      "source": [
        ""
      ],
      "execution_count": null,
      "outputs": []
    },
    {
      "cell_type": "code",
      "metadata": {
        "id": "5aUwjXHisqDL"
      },
      "source": [
        ""
      ],
      "execution_count": null,
      "outputs": []
    },
    {
      "cell_type": "code",
      "metadata": {
        "id": "zTWqNIb3sqA1"
      },
      "source": [
        ""
      ],
      "execution_count": null,
      "outputs": []
    },
    {
      "cell_type": "code",
      "metadata": {
        "id": "TRJC7YGlsp9Z"
      },
      "source": [
        ""
      ],
      "execution_count": null,
      "outputs": []
    },
    {
      "cell_type": "code",
      "metadata": {
        "id": "W2aQ01-ssp6K"
      },
      "source": [
        ""
      ],
      "execution_count": null,
      "outputs": []
    },
    {
      "cell_type": "code",
      "metadata": {
        "id": "siOneeUBsp1n"
      },
      "source": [
        ""
      ],
      "execution_count": null,
      "outputs": []
    },
    {
      "cell_type": "code",
      "metadata": {
        "id": "15sDu52sspta"
      },
      "source": [
        ""
      ],
      "execution_count": null,
      "outputs": []
    },
    {
      "cell_type": "code",
      "metadata": {
        "id": "5UvZ-ZQqspqz"
      },
      "source": [
        ""
      ],
      "execution_count": null,
      "outputs": []
    },
    {
      "cell_type": "code",
      "metadata": {
        "id": "m9Z6oTxSspnm"
      },
      "source": [
        ""
      ],
      "execution_count": null,
      "outputs": []
    },
    {
      "cell_type": "code",
      "metadata": {
        "id": "XJ2PjQ7ZsplS"
      },
      "source": [
        ""
      ],
      "execution_count": null,
      "outputs": []
    },
    {
      "cell_type": "code",
      "metadata": {
        "id": "olDU0iJzspiL"
      },
      "source": [
        ""
      ],
      "execution_count": null,
      "outputs": []
    },
    {
      "cell_type": "code",
      "metadata": {
        "id": "u3xDah6xspfq"
      },
      "source": [
        ""
      ],
      "execution_count": null,
      "outputs": []
    },
    {
      "cell_type": "code",
      "metadata": {
        "id": "gJrr84xIspdS"
      },
      "source": [
        ""
      ],
      "execution_count": null,
      "outputs": []
    },
    {
      "cell_type": "code",
      "metadata": {
        "id": "ByPD-UnHspap"
      },
      "source": [
        ""
      ],
      "execution_count": null,
      "outputs": []
    },
    {
      "cell_type": "code",
      "metadata": {
        "id": "dIpi_uqQspXk"
      },
      "source": [
        ""
      ],
      "execution_count": null,
      "outputs": []
    },
    {
      "cell_type": "code",
      "metadata": {
        "id": "VUz-tS9OspVE"
      },
      "source": [
        ""
      ],
      "execution_count": null,
      "outputs": []
    },
    {
      "cell_type": "code",
      "metadata": {
        "id": "f1rJeJlOspSo"
      },
      "source": [
        ""
      ],
      "execution_count": null,
      "outputs": []
    },
    {
      "cell_type": "code",
      "metadata": {
        "id": "uvf-u9JUspQW"
      },
      "source": [
        ""
      ],
      "execution_count": null,
      "outputs": []
    },
    {
      "cell_type": "code",
      "metadata": {
        "id": "0cuxWg-7spM_"
      },
      "source": [
        ""
      ],
      "execution_count": null,
      "outputs": []
    },
    {
      "cell_type": "code",
      "metadata": {
        "id": "KbgwR-INspKC"
      },
      "source": [
        ""
      ],
      "execution_count": null,
      "outputs": []
    },
    {
      "cell_type": "code",
      "metadata": {
        "id": "9o28XslLso9v"
      },
      "source": [
        ""
      ],
      "execution_count": null,
      "outputs": []
    }
  ]
}